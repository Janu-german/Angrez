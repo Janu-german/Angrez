{
 "cells": [
  {
   "cell_type": "markdown",
   "id": "52133d3c-cc40-4878-981a-c806d840cf03",
   "metadata": {},
   "source": [
    "# Understanding Data Science Tools"
   ]
  },
  {
   "cell_type": "markdown",
   "id": "510f6d44-c5e4-4780-9e75-1c69dab79809",
   "metadata": {},
   "source": [
    "## Practice assignment Data Science tools"
   ]
  },
  {
   "cell_type": "markdown",
   "id": "b08f8c83-43bf-4412-9827-93cb47fb4168",
   "metadata": {},
   "source": [
    "### __Objectives__\n",
    "* popular languages used by data scientist\n",
    "* top 3 open source IDE\n",
    "* understanding GIThub"
   ]
  },
  {
   "cell_type": "markdown",
   "id": "e10be760-c28c-4d70-a96a-d33d2e4f881f",
   "metadata": {},
   "source": [
    "### Languages used by developers for Data Science\n",
    "1. R\n",
    "2. python\n",
    "3. Julia"
   ]
  },
  {
   "cell_type": "markdown",
   "id": "cde40855-f007-4618-a7e4-b260106c88ac",
   "metadata": {},
   "source": [
    "### Commonly used libraries used by Data Scientists\n",
    "1. Matplotlib\n",
    "2. pandas\n",
    "3. numpy"
   ]
  },
  {
   "cell_type": "markdown",
   "id": "2d21f685-113e-4a96-9ae2-883acacaf818",
   "metadata": {},
   "source": [
    "|Data science tools|\n",
    "|------------------|\n",
    "|Jupiter Notebook  |\n",
    "|------------------|\n",
    "|spyder            |\n",
    "|------------------|\n",
    "|Sublime Text      |"
   ]
  },
  {
   "cell_type": "markdown",
   "id": "3df64c7e-c063-495d-be42-d8361a7e77a7",
   "metadata": {},
   "source": [
    "### Arthmetic Expressions in Python"
   ]
  },
  {
   "cell_type": "code",
   "execution_count": 2,
   "id": "f5b0db01-599f-4746-b5f5-80ec2b27d219",
   "metadata": {
    "tags": []
   },
   "outputs": [
    {
     "data": {
      "text/plain": [
       "-2"
      ]
     },
     "execution_count": 2,
     "metadata": {},
     "output_type": "execute_result"
    }
   ],
   "source": [
    "# Additions and subtractions Example\n",
    "2+2-6"
   ]
  },
  {
   "cell_type": "code",
   "execution_count": 4,
   "id": "9664510c-73c6-4e8f-ab3c-63622d88ab53",
   "metadata": {
    "tags": []
   },
   "outputs": [
    {
     "data": {
      "text/plain": [
       "3.3333333333333335"
      ]
     },
     "execution_count": 4,
     "metadata": {},
     "output_type": "execute_result"
    }
   ],
   "source": [
    "# converting 200 minutes to hour\n",
    "200/60"
   ]
  },
  {
   "cell_type": "markdown",
   "id": "ea84c444-1f61-4ae0-865e-36e6143ca2f9",
   "metadata": {},
   "source": [
    "## Author\n",
    "Abdul Rahman Nazir Ahmed"
   ]
  },
  {
   "cell_type": "code",
   "execution_count": null,
   "id": "948a7789-983d-4af5-8034-d1635b197451",
   "metadata": {},
   "outputs": [],
   "source": []
  }
 ],
 "metadata": {
  "kernelspec": {
   "display_name": "Python",
   "language": "python",
   "name": "conda-env-python-py"
  },
  "language_info": {
   "codemirror_mode": {
    "name": "ipython",
    "version": 3
   },
   "file_extension": ".py",
   "mimetype": "text/x-python",
   "name": "python",
   "nbconvert_exporter": "python",
   "pygments_lexer": "ipython3",
   "version": "3.7.12"
  }
 },
 "nbformat": 4,
 "nbformat_minor": 5
}
